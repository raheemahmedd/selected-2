{
 "cells": [
  {
   "cell_type": "markdown",
   "id": "f0f85caf",
   "metadata": {},
   "source": [
    "# import packages"
   ]
  },
  {
   "cell_type": "code",
   "execution_count": 4,
   "id": "dc61fa84",
   "metadata": {},
   "outputs": [],
   "source": [
    "import pickle\n",
    "import matplotlib.pyplot as plt\n",
    "from keras.utils.np_utils import to_categorical\n",
    "from keras.models import Sequential\n",
    "from keras.layers import Dense, Dropout, Flatten, Conv2D, MaxPool2D\n",
    "from keras.callbacks import LearningRateScheduler\n",
    "import numpy as np\n",
    "import pandas as pd"
   ]
  },
  {
   "cell_type": "markdown",
   "id": "e0ea018f",
   "metadata": {},
   "source": [
    "# load dataset"
   ]
  },
  {
   "cell_type": "code",
   "execution_count": 5,
   "id": "bc313e6e",
   "metadata": {},
   "outputs": [],
   "source": [
    "with open(\"data8.pickle\", 'rb') as f:\n",
    "        data = pickle.load(f, encoding='latin1')"
   ]
  },
  {
   "cell_type": "markdown",
   "id": "45f658e7",
   "metadata": {},
   "source": [
    "# Discover the Dataset"
   ]
  },
  {
   "cell_type": "code",
   "execution_count": 4,
   "id": "82148cbf",
   "metadata": {},
   "outputs": [
    {
     "data": {
      "text/plain": [
       "{'y_validation': array([ 9, 37, 31, ...,  5, 18,  6], dtype=uint8),\n",
       " 'x_train': array([[[[-0.54642206,  1.0425833 ,  0.79494214, ..., -0.70286393,\n",
       "           -0.67279685, -0.602346  ],\n",
       "          [-0.6146229 ,  0.74160224,  0.5867728 , ...,  0.16095497,\n",
       "            0.15466528,  0.0214771 ],\n",
       "          [-0.69638306,  0.5387884 ,  0.44214383, ..., -0.06861585,\n",
       "           -0.24066828, -0.35183737],\n",
       "          ...,\n",
       "          [ 0.12834986,  0.41358492,  0.5119226 , ...,  0.3618001 ,\n",
       "            0.545381  , -0.48002478],\n",
       "          [ 0.4186098 ,  0.38220668,  0.47971445, ...,  0.55423665,\n",
       "            0.73357224, -0.4668069 ],\n",
       "          [-0.54892397, -0.61771524, -0.6314567 , ...,  0.68108726,\n",
       "            0.85835606, -0.4669531 ]]],\n",
       " \n",
       " \n",
       "        [[[-0.54642206, -0.56189924, -0.6495985 , ..., -0.12373468,\n",
       "            0.02414251, -0.54330283],\n",
       "          [-0.03432735,  0.15697211,  0.10856288, ..., -0.5076013 ,\n",
       "           -0.14035697, -0.6238451 ],\n",
       "          [-0.17071831, -0.12555376, -0.0688336 , ..., -0.70964766,\n",
       "           -0.36201033, -0.70586354],\n",
       "          ...,\n",
       "          [-0.3411084 ,  0.48219812, -0.49000028, ...,  1.1981417 ,\n",
       "            1.7745035 ,  1.077938  ],\n",
       "          [-0.06001614,  1.3204398 ,  0.6182278 , ...,  1.4360467 ,\n",
       "            1.9566792 ,  1.1978731 ],\n",
       "          [ 0.16084434,  1.8574777 ,  1.332871  , ...,  0.2707949 ,\n",
       "            0.71847534, -0.17940794]]],\n",
       " \n",
       " \n",
       "        [[[-0.25243405, -0.3884417 , -0.53403515, ...,  0.45539445,\n",
       "           -0.2662489 , -0.48425975],\n",
       "          [-0.32447508, -0.48612106, -0.7283045 , ...,  0.22173281,\n",
       "           -0.43537927, -0.56517947],\n",
       "          [-0.46275425, -0.7295012 , -0.96304417, ..., -0.00451267,\n",
       "           -0.6046943 , -0.70586354],\n",
       "          ...,\n",
       "          [ 3.2636602 ,  3.003734  ,  1.9253495 , ...,  0.7888682 ,\n",
       "            0.8223663 ,  0.60377544],\n",
       "          [ 3.3416467 ,  3.1627882 ,  1.9860473 , ...,  0.90004444,\n",
       "            1.4054198 ,  0.7123414 ],\n",
       "          [ 3.3370574 ,  3.380673  ,  2.0844395 , ...,  1.1597619 ,\n",
       "            1.7500956 ,  1.1145452 ]]],\n",
       " \n",
       " \n",
       "        ...,\n",
       " \n",
       " \n",
       "        [[[-0.6640173 ,  0.6523037 ,  1.1271864 , ..., -0.81868976,\n",
       "           -0.73087513, -0.66138905],\n",
       "          [-0.73068196,  0.74160224,  1.2891437 , ...,  0.22173281,\n",
       "            0.21366973,  0.25613967],\n",
       "          [-0.81319743,  1.2484267 ,  2.0229805 , ...,  0.7486998 ,\n",
       "            0.7149    ,  0.65123665],\n",
       "          ...,\n",
       "          [ 2.9953983 ,  2.8665075 ,  2.7841406 , ...,  0.9134297 ,\n",
       "            1.0127939 , -0.6832374 ],\n",
       "          [ 2.7946455 ,  3.0263178 ,  2.8863842 , ...,  0.8308829 ,\n",
       "            0.94029456, -0.67489195],\n",
       "          [-0.61990076, -0.61771524, -0.6314567 , ...,  0.68108726,\n",
       "            0.5785947 , -0.6107257 ]]],\n",
       " \n",
       " \n",
       "        [[[ 0.27674443,  2.4302437 ,  2.2828186 , ...,  0.39748153,\n",
       "            0.3145339 ,  0.34234348],\n",
       "          [ 0.25582045,  2.3054879 ,  2.1857872 , ...,  2.1514294 ,\n",
       "            2.2640743 ,  2.4121022 ],\n",
       "          [ 0.23813203,  2.2147424 ,  2.150725  , ...,  2.0948665 ,\n",
       "            2.1710038 ,  2.2886076 ],\n",
       "          ...,\n",
       "          [ 2.9283328 ,  2.7978945 ,  2.7125747 , ...,  2.8352356 ,\n",
       "            2.951691  ,  0.67151296],\n",
       "          [ 3.1365213 ,  2.9580827 ,  2.8171275 , ...,  2.957601  ,\n",
       "            3.1281054 ,  0.5736181 ],\n",
       "          [ 0.51572853,  0.4900634 ,  0.46173432, ...,  3.1257463 ,\n",
       "            3.3587236 ,  0.61134124]]],\n",
       " \n",
       " \n",
       "        [[[-0.6640173 , -0.79317605,  0.21712588, ..., -0.9345156 ,\n",
       "           -0.7889534 , -0.66138905],\n",
       "          [-0.7887115 , -0.9538252 ,  0.5867728 , ..., -0.9938241 ,\n",
       "           -0.9664194 , -0.79984206],\n",
       "          [-0.9300118 , -1.1522644 ,  1.1287699 , ...,  1.7102474 ,\n",
       "            0.836242  ,  0.29721054],\n",
       "          ...,\n",
       "          [-0.6093703 , -0.6842267 , -0.6331321 , ...,  0.7888682 ,\n",
       "           -1.0472846 , -0.88644993],\n",
       "          [-0.7437675 , -0.9142608 , -1.1131893 , ...,  0.8308829 ,\n",
       "           -0.92020607, -0.7442536 ],\n",
       "          [-0.61990076, -0.75618756, -0.9047544 , ...,  0.8178514 ,\n",
       "           -0.7502721 , -0.6107257 ]]]], dtype=float32),\n",
       " 'y_train': array([37, 27, 38, ..., 11, 14, 30], dtype=int64),\n",
       " 'x_validation': array([[[[-0.25243405, -0.3884417 , -0.5918168 , ..., -0.4712122 ,\n",
       "           -0.2662489 , -0.18904434],\n",
       "          [-0.3825046 , -0.54458404, -0.7283045 , ..., -0.68993485,\n",
       "           -0.5533882 , -0.38918248],\n",
       "          [-0.52116144, -0.7295012 , -1.0269164 , ..., -0.837854  ,\n",
       "           -0.6653653 , -0.46984607],\n",
       "          ...,\n",
       "          [-0.27404296, -0.47838706, -0.77626395, ..., -0.7770479 ,\n",
       "            0.06065671,  0.67151296],\n",
       "          [-0.12839127, -0.3001446 , -0.5591358 , ..., -0.62151   ,\n",
       "            0.52685   ,  1.1978731 ],\n",
       "          [ 0.01889069, -0.20229822, -0.3581589 , ..., -0.20787962,\n",
       "            1.1381176 ,  1.545863  ]]],\n",
       " \n",
       " \n",
       "        [[[ 1.3204019 ,  0.7679421 ,  0.50603396, ...,  0.6870461 ,\n",
       "            0.95339495,  0.5194727 ],\n",
       "          [ 2.2143176 ,  1.1362276 , -0.48919955, ...,  2.1514294 ,\n",
       "            2.3230789 ,  2.0014427 ],\n",
       "          [ 2.5014105 ,  0.946453  ,  0.37827167, ...,  2.287176  ,\n",
       "            2.53503   ,  2.5836291 ],\n",
       "          ...,\n",
       "          [ 2.6600711 ,  1.7000829 ,  1.9969155 , ...,  0.71769005,\n",
       "            0.6146273 ,  0.5360379 ],\n",
       "          [ 1.7690187 ,  0.99632275,  1.7782773 , ...,  1.0210774 ,\n",
       "            1.6810496 ,  1.3365965 ],\n",
       "          [ 2.698266  ,  2.6190753 ,  2.4260619 , ...,  1.7581049 ,\n",
       "            2.239678  ,  1.9592092 ]]],\n",
       " \n",
       " \n",
       "        [[[ 2.9667346 ,  2.777159  ,  2.6295083 , ...,  2.641607  ,\n",
       "            2.7973802 ,  2.9845216 ],\n",
       "          [ 2.7946131 ,  2.656266  ,  2.5444446 , ...,  2.5768743 ,\n",
       "            2.6771054 ,  2.8227618 ],\n",
       "          [ 2.676632  ,  2.5771108 ,  2.533958  , ...,  2.5435886 ,\n",
       "            2.595701  ,  2.701638  ],\n",
       "          ...,\n",
       "          [-0.47523934, -0.6842267 , -0.99096173, ..., -0.4211579 ,\n",
       "           -0.70105296, -0.48002478],\n",
       "          [-0.4018918 , -0.6413202 , -0.90541923, ..., -0.7598333 ,\n",
       "           -0.5067615 , -0.32808354],\n",
       "          [-0.33599347, -0.548479  , -0.6997811 , ..., -0.68655413,\n",
       "           -0.47051066, -0.17940794]]],\n",
       " \n",
       " \n",
       "        ...,\n",
       " \n",
       " \n",
       "        [[[ 0.6883276 ,  0.42102695,  0.15934427, ..., -0.12373468,\n",
       "           -0.0920141 ,  0.04712799],\n",
       "          [ 0.37187952,  0.21543512,  0.04878664, ..., -0.5076013 ,\n",
       "           -0.14035697, -0.09585425],\n",
       "          [ 0.29653922,  0.11602519, -0.13270578, ..., -0.837854  ,\n",
       "           -0.54402333, -0.292833  ],\n",
       "          ...,\n",
       "          [-0.5423049 , -0.27254736,  0.44035667, ...,  1.0557857 ,\n",
       "            0.75312   ,  1.6029038 ],\n",
       "          [-0.47026694, -0.02720413,  0.6874845 , ...,  2.1276624 ,\n",
       "            1.147017  ,  2.2903192 ],\n",
       "          [-0.33599347,  0.21311878,  1.0083297 , ...,  1.8948691 ,\n",
       "            1.0681771 ,  2.2467544 ]]],\n",
       " \n",
       " \n",
       "        [[[ 2.9667346 ,  2.777159  ,  2.6295083 , ...,  2.641607  ,\n",
       "            2.7973802 ,  2.9845216 ],\n",
       "          [ 2.7946131 ,  2.656266  ,  2.5444446 , ...,  2.5768743 ,\n",
       "            2.6771054 ,  2.8227618 ],\n",
       "          [ 2.676632  ,  2.5771108 ,  2.533958  , ...,  2.2230728 ,\n",
       "            2.595701  ,  2.701638  ],\n",
       "          ...,\n",
       "          [ 3.2636602 ,  3.1409605 ,  2.6410089 , ...,  2.5505238 ,\n",
       "            1.1512865 ,  0.942463  ],\n",
       "          [ 3.478397  ,  3.2992582 ,  3.163411  , ...,  2.957601  ,\n",
       "            1.1986976 ,  1.1285114 ],\n",
       "          [ 3.7629185 ,  3.5191453 ,  3.3142796 , ...,  2.1000152 ,\n",
       "            0.9982368 ,  1.3302041 ]]],\n",
       " \n",
       " \n",
       "        [[[-0.01724364, -0.56189924, -0.18734547, ..., -0.52912515,\n",
       "           -0.38240546, -0.07095817],\n",
       "          [-0.03432735, -0.6030471 , -0.3696471 , ..., -0.87226844,\n",
       "           -0.49438372, -0.0371886 ],\n",
       "          [-0.2875327 , -0.7898959 , -0.5798111 , ..., -0.96606034,\n",
       "           -0.6046943 , -0.23382866],\n",
       "          ...,\n",
       "          [-0.27404296, -0.61561346, -0.8478298 , ..., -0.9905819 ,\n",
       "           -0.7702994 , -0.6154999 ],\n",
       "          [-0.06001614, -0.43661487, -0.4898791 , ..., -0.7598333 ,\n",
       "           -0.6445763 , -0.39744523],\n",
       "          [ 0.01889069, -0.13306208, -0.28983447, ..., -0.48140788,\n",
       "           -0.54045105, -0.32318053]]]], dtype=float32),\n",
       " 'labels': ['Speed limit (20km/h)',\n",
       "  'Speed limit (30km/h)',\n",
       "  'Speed limit (50km/h)',\n",
       "  'Speed limit (60km/h)',\n",
       "  'Speed limit (70km/h)',\n",
       "  'Speed limit (80km/h)',\n",
       "  'End of speed limit (80km/h)',\n",
       "  'Speed limit (100km/h)',\n",
       "  'Speed limit (120km/h)',\n",
       "  'No passing',\n",
       "  'No passing for vehicles over 3.5 metric tons',\n",
       "  'Right-of-way at the next intersection',\n",
       "  'Priority road',\n",
       "  'Yield',\n",
       "  'Stop',\n",
       "  'No vehicles',\n",
       "  'Vehicles over 3.5 metric tons prohibited',\n",
       "  'No entry',\n",
       "  'General caution',\n",
       "  'Dangerous curve to the left',\n",
       "  'Dangerous curve to the right',\n",
       "  'Double curve',\n",
       "  'Bumpy road',\n",
       "  'Slippery road',\n",
       "  'Road narrows on the right',\n",
       "  'Road work',\n",
       "  'Traffic signals',\n",
       "  'Pedestrians',\n",
       "  'Children crossing',\n",
       "  'Bicycles crossing',\n",
       "  'Beware of ice/snow',\n",
       "  'Wild animals crossing',\n",
       "  'End of all speed and passing limits',\n",
       "  'Turn right ahead',\n",
       "  'Turn left ahead',\n",
       "  'Ahead only',\n",
       "  'Go straight or right',\n",
       "  'Go straight or left',\n",
       "  'Keep right',\n",
       "  'Keep left',\n",
       "  'Roundabout mandatory',\n",
       "  'End of no passing',\n",
       "  'End of no passing by vehicles over 3.5 metric tons'],\n",
       " 'x_test': array([[[[ 5.7073241e-01,  4.2102695e-01,  1.0156265e-01, ...,\n",
       "            2.0624781e+00,  2.2746756e+00,  2.4531338e+00],\n",
       "          [-3.4327347e-02,  2.1543512e-01,  4.8786644e-02, ...,\n",
       "            2.0298736e+00,  2.3230789e+00,  2.4121022e+00],\n",
       "          [-4.6275425e-01, -3.0673796e-01, -2.6045015e-01, ...,\n",
       "            2.3512793e+00,  2.3530169e+00,  2.2886076e+00],\n",
       "          ...,\n",
       "          [-3.4110841e-01,  7.5665104e-01,  7.2662032e-01, ...,\n",
       "            9.8460770e-01, -7.7835940e-02,  6.1875354e-02],\n",
       "          [-1.2839127e-01,  1.1839695e+00,  9.6451133e-01, ...,\n",
       "            1.2977237e+00,  1.1340543e-01, -2.5872189e-01],\n",
       "          [ 1.8890690e-02,  1.5112969e+00,  1.8843660e-01, ...,\n",
       "            1.6213408e+00,  5.0865430e-01,  3.2379606e-01]]],\n",
       " \n",
       " \n",
       "        [[[ 1.4967947e+00,  2.1411479e+00,  2.3406003e+00, ...,\n",
       "           -4.7121221e-01, -2.0817064e-01,  4.7127988e-02],\n",
       "          [ 1.4019041e+00,  2.1300988e+00,  2.3651159e+00, ...,\n",
       "           -2.0371208e-01,  9.5660828e-02,  1.9747403e-01],\n",
       "          [ 1.3916740e+00,  2.0939529e+00,  2.2784691e+00, ...,\n",
       "            2.5190005e-01,  4.8738366e-01,  8.2824981e-01],\n",
       "          ...,\n",
       "          [-7.4350125e-01, -8.9006644e-01,  9.2342675e-01, ...,\n",
       "           -2.0762385e-01, -5.6256032e-01,  4.0056291e-01],\n",
       "          [-4.0189180e-01, -4.3661487e-01,  9.6451133e-01, ...,\n",
       "            9.4410853e-04, -3.6894661e-01,  5.0425649e-01],\n",
       "          [ 8.9867510e-02,  5.4102424e-03,  1.1962221e+00, ...,\n",
       "            2.0241283e-01, -2.6068959e-01,  7.5511384e-01]]],\n",
       " \n",
       " \n",
       "        [[[ 9.2351800e-01,  8.8358045e-01, -4.7625357e-01, ...,\n",
       "           -7.6077682e-01, -6.1471856e-01, -5.4330283e-01],\n",
       "          [ 6.0399771e-01,  7.4160224e-01, -9.6740949e-01, ...,\n",
       "           -9.3304628e-01, -6.7139715e-01, -7.4117637e-01],\n",
       "          [ 5.3016794e-01,  6.5957797e-01, -9.6304417e-01, ...,\n",
       "           -9.6606034e-01, -8.4737837e-01, -7.6486784e-01],\n",
       "          ...,\n",
       "          [ 1.2834986e-01, -6.6707648e-02, -6.3313210e-01, ...,\n",
       "           -1.2041159e+00, -7.0105296e-01, -3.4454978e-01],\n",
       "          [ 2.1348442e-01, -2.7204130e-02, -4.8987910e-01, ...,\n",
       "           -8.9815640e-01, -4.3785405e-01, -5.0636895e-02],\n",
       "          [-5.2086134e-02, -2.0229822e-01, -2.8983447e-01, ...,\n",
       "           -2.7626169e-01, -1.2080890e-01,  3.6250915e-02]]],\n",
       " \n",
       " \n",
       "        ...,\n",
       " \n",
       " \n",
       "        [[[ 1.6143899e+00,  1.4473176e+00,  1.2427497e+00, ...,\n",
       "            1.7729133e+00,  1.9842843e+00,  2.0398324e+00],\n",
       "          [ 1.5759927e+00,  1.1362276e+00,  1.1098150e+00, ...,\n",
       "            1.7259845e+00,  1.7920389e+00,  1.8841114e+00],\n",
       "          [ 1.3332669e+00,  9.4645298e-01,  8.7328118e-01, ...,\n",
       "            1.3897315e+00,  1.6856359e+00,  1.6395596e+00],\n",
       "          ...,\n",
       "          [-6.7643577e-01, -7.5283998e-01, -9.9096173e-01, ...,\n",
       "           -4.9233589e-01, -2.1632867e-01,  1.9735038e-01],\n",
       "          [-5.3864205e-01, -7.0955533e-01, -7.6690590e-01, ...,\n",
       "           -6.2151003e-01, -3.6894661e-01,  1.8724766e-02],\n",
       "          [-4.0697029e-01, -4.1000673e-01, -5.6313223e-01, ...,\n",
       "           -5.4979002e-01, -3.3062994e-01, -1.7940794e-01]]],\n",
       " \n",
       " \n",
       "        [[[-5.4642206e-01, -6.1971843e-01, -2.4512710e-01, ...,\n",
       "            2.2374280e-01,  2.5645560e-01,  2.2425729e-01],\n",
       "          [-4.9856377e-01, -4.8612106e-01, -7.0765831e-02, ...,\n",
       "           -2.1378547e-02, -3.1737038e-01, -3.7188601e-02],\n",
       "          [-1.7071831e-01, -7.8989589e-01, -4.5206669e-01, ...,\n",
       "           -4.5126667e-03, -4.2268133e-01,  2.3820619e-01],\n",
       "          ...,\n",
       "          [ 1.0672662e+00,  8.9387745e-01,  4.4035667e-01, ...,\n",
       "           -2.0762385e-01,  1.9914937e-01,  6.0377544e-01],\n",
       "          [ 1.1707362e+00,  7.9161739e-01,  4.7971445e-01, ...,\n",
       "            7.0105672e-02,  3.2012770e-01,  1.5744808e-01],\n",
       "          [ 7.9963583e-01,  5.5929959e-01,  1.2011217e-01, ...,\n",
       "            4.7594109e-01,  5.7859468e-01,  3.2379606e-01]]],\n",
       " \n",
       " \n",
       "        [[[-4.2882687e-01, -5.0408006e-01, -6.4959848e-01, ...,\n",
       "           -6.4495099e-01, -4.4048375e-01, -3.6617362e-01],\n",
       "          [-6.1462289e-01, -7.1997315e-01, -9.0763324e-01, ...,\n",
       "           -9.3304628e-01, -7.3040158e-01, -6.2384510e-01],\n",
       "          [-7.5479025e-01, -9.1068548e-01, -1.2185329e+00, ...,\n",
       "           -1.0942668e+00, -8.4737837e-01, -7.0586354e-01],\n",
       "          ...,\n",
       "          [-6.0937029e-01, -7.5283998e-01, -9.1939574e-01, ...,\n",
       "           -9.1940385e-01, -7.0105296e-01, -5.4776239e-01],\n",
       "          [-5.3864205e-01, -6.4132023e-01, -7.6690590e-01, ...,\n",
       "           -7.5983328e-01, -5.7566893e-01, -3.9744523e-01],\n",
       "          [-2.6501665e-01, -4.1000673e-01, -5.6313223e-01, ...,\n",
       "           -6.1817205e-01, -4.7051066e-01, -3.2318053e-01]]]],\n",
       "       dtype=float32),\n",
       " 'y_test': array([25, 11, 38, ...,  8, 33, 10], dtype=uint8)}"
      ]
     },
     "execution_count": 4,
     "metadata": {},
     "output_type": "execute_result"
    }
   ],
   "source": [
    "data"
   ]
  },
  {
   "cell_type": "code",
   "execution_count": 3,
   "id": "d7f67377",
   "metadata": {},
   "outputs": [
    {
     "name": "stdout",
     "output_type": "stream",
     "text": [
      "number of columns per data : 7\n"
     ]
    }
   ],
   "source": [
    "\n",
    "print('number of columns per data :',len(data))"
   ]
  },
  {
   "cell_type": "code",
   "execution_count": 4,
   "id": "8302965d",
   "metadata": {},
   "outputs": [
    {
     "name": "stdout",
     "output_type": "stream",
     "text": [
      "number of labels available in dataset : 43\n",
      "number of images available for training : 86989\n",
      "number of labels available for training : 86989\n",
      "number of images available for test : 12630\n",
      "number of lables available for test : 12630\n",
      "number of lables available for validation : 4410\n",
      "number of images available for validation : 4410\n",
      "total number of images per dataset  : 104029\n"
     ]
    }
   ],
   "source": [
    "counter=0\n",
    "labelarr=[]\n",
    "for labels in data['labels']:\n",
    "    labelarr.append([labels])\n",
    "    counter+=1\n",
    "print('number of labels available in dataset :',counter)\n",
    "xtraincounter=0\n",
    "for labels in data['x_train']:\n",
    "    xtraincounter+=1\n",
    "print('number of images available for training :',xtraincounter)\n",
    "ytraincounter=0\n",
    "for labels in data['y_train']:\n",
    "    ytraincounter+=1\n",
    "print('number of labels available for training :',ytraincounter)\n",
    "xtestcounter=0\n",
    "for labels in data['x_test']:\n",
    "    xtestcounter+=1\n",
    "print('number of images available for test :',xtestcounter)\n",
    "ytestcounter=0\n",
    "for labels in data['y_test']:\n",
    "    ytestcounter+=1\n",
    "print('number of lables available for test :',ytestcounter)\n",
    "yvcounter=0\n",
    "for labels in data['y_validation']:\n",
    "    yvcounter+=1\n",
    "print('number of lables available for validation :',yvcounter)\n",
    "xvcounter=0\n",
    "for labels in data['x_validation']:\n",
    "    xvcounter+=1\n",
    "print('number of images available for validation :',xvcounter)\n",
    "\n",
    "print('total number of images per dataset  :',xtraincounter+xtestcounter+xvcounter)\n"
   ]
  },
  {
   "cell_type": "code",
   "execution_count": 5,
   "id": "e5b42b7e",
   "metadata": {},
   "outputs": [],
   "source": [
    "data['y_train'] = to_categorical(data['y_train'], num_classes=43)\n",
    "data['y_validation'] = to_categorical(data['y_validation'], num_classes=43)\n",
    "data['x_train'] = data['x_train'].transpose(0, 2, 3, 1)\n",
    "data['x_validation'] = data['x_validation'].transpose(0, 2, 3, 1)\n"
   ]
  },
  {
   "cell_type": "markdown",
   "id": "445308f7",
   "metadata": {},
   "source": [
    "# visualization about dataset"
   ]
  },
  {
   "cell_type": "code",
   "execution_count": 89,
   "id": "8fc4c35e",
   "metadata": {},
   "outputs": [
    {
     "data": {
      "image/png": "[encoded data removed]",
      "text/plain": [
       "<Figure size 300x300 with 1 Axes>"
      ]
     },
     "metadata": {},
     "output_type": "display_data"
    }
   ],
   "source": [
    "import matplotlib.pyplot as plt\n",
    "import numpy as np\n",
    "\n",
    "y = np.array([xtraincounter, xtestcounter, xvcounter])\n",
    "mylabels = [\"Training images\", \"Test images\", \"Validation images\"]\n",
    "myexplode = [0.2, 0, 0]\n",
    "mycolors = [\"blue\", \"green\", \"red\"]\n",
    "plt.pie(y, labels = mylabels,explode = myexplode,shadow = True,colors = mycolors)\n",
    "plt.legend(title = \"three image classifications\")\n",
    "\n",
    "plt.show() "
   ]
  },
  {
   "cell_type": "code",
   "execution_count": 87,
   "id": "89857a3b",
   "metadata": {
    "scrolled": true
   },
   "outputs": [
    {
     "data": {
      "image/png": "[encoded data removed]",
      "text/plain": [
       "<Figure size 300x300 with 1 Axes>"
      ]
     },
     "metadata": {},
     "output_type": "display_data"
    }
   ],
   "source": [
    "categories = ['']\n",
    "X = [xtraincounter]\n",
    "Y = [xvcounter]\n",
    "z=  [xtestcounter]\n",
    "  \n",
    "X_axis = np.arange(len(categories))\n",
    "  \n",
    "plt.bar(X_axis - 0.2, X, 0.4, label = 'training images')\n",
    "plt.bar(X_axis + 0.2, Y, 0.4, label = 'validation images')\n",
    "plt.bar(X_axis + 0.4, z, 0.4, label = 'test images')  \n",
    "plt.xticks(X_axis, categories)\n",
    "plt.xlabel(\"images split\")\n",
    "plt.ylabel(\"Number of images\")\n",
    "plt.title(\"Number of images in each split\")\n",
    "plt.legend()\n",
    "plt.show()"
   ]
  },
  {
   "cell_type": "code",
   "execution_count": 97,
   "id": "909e1408",
   "metadata": {},
   "outputs": [
    {
     "name": "stdout",
     "output_type": "stream",
     "text": [
      "biggest class number : 42\n"
     ]
    }
   ],
   "source": [
    "print('biggest class number :',data['y_test'].max())"
   ]
  },
  {
   "cell_type": "code",
   "execution_count": 98,
   "id": "ab4e3045",
   "metadata": {},
   "outputs": [
    {
     "name": "stdout",
     "output_type": "stream",
     "text": [
      "smallest class number : 0\n"
     ]
    }
   ],
   "source": [
    "print('smallest class number :',data['y_test'].min())"
   ]
  },
  {
   "cell_type": "code",
   "execution_count": 9,
   "id": "5173a0a4",
   "metadata": {},
   "outputs": [
    {
     "name": "stdout",
     "output_type": "stream",
     "text": [
      "[0, 1, 2, 3, 4, 5, 6, 7, 8, 9, 10, 11, 12, 13, 14, 15, 16, 17, 18, 19, 20, 21, 22, 23, 24, 25, 26, 27, 28, 29, 30, 31, 32, 33, 34, 35, 36, 37, 38, 39, 40, 41, 42]\n"
     ]
    }
   ],
   "source": [
    "## YAHIA TAREK SHUGHLK HYBD2 MN HNA Y HNDSAAA\n",
    "a_list = list(range(0, 43))\n",
    "\n",
    "print(a_list)\n"
   ]
  },
  {
   "cell_type": "code",
   "execution_count": 7,
   "id": "0813d441",
   "metadata": {},
   "outputs": [
    {
     "name": "stdout",
     "output_type": "stream",
     "text": [
      "25\n"
     ]
    }
   ],
   "source": [
    "## SATRT CODE Y YAHIA FROM HERE\n",
    "   ## code for switch case on data['y_test'] for 43 label        \n",
    "## END CODE"
   ]
  },
  {
   "cell_type": "markdown",
   "id": "ade83992",
   "metadata": {},
   "source": [
    "# implement model"
   ]
  },
  {
   "cell_type": "code",
   "execution_count": null,
   "id": "d0f2044b",
   "metadata": {},
   "outputs": [],
   "source": [
    "model = Sequential()\n",
    "model.add(Conv2D(32, kernel_size=3, padding='same', activation='relu', input_shape=(32, 32, 1)))\n",
    "model.add(MaxPool2D(pool_size=2))\n",
    "model.add(Flatten())\n",
    "model.add(Dense(256, activation='relu'))\n",
    "model.add(Dropout(.4))\n",
    "model.add(Dense(256, activation='relu'))\n",
    "model.add(Dropout(.4))\n",
    "model.add(Dense(43, activation='softmax'))\n",
    "model.compile(optimizer='adam', loss='categorical_crossentropy', metrics=['accuracy'])\n",
    "\n",
    "\n",
    "\n",
    "annealer = LearningRateScheduler(lambda x: 1e-3 * 0.95 ** (x + epochs))\n",
    "epochs = 10\n",
    "\n",
    "h = model.fit(data['x_train'], data['y_train'],\n",
    "              batch_size=128, epochs = epochs,\n",
    "              validation_data = (data['x_validation'], data['y_validation']),\n",
    "              callbacks=[annealer], verbose=1)\n",
    "\n",
    "print('Epochs={0:d}, training accuracy={1:.5f}, validation accuracy={2:.5f}'.\\\n",
    "      format(epochs, max(h.history['accuracy']), max(h.history['val_accuracy'])))"
   ]
  },
  {
   "cell_type": "markdown",
   "id": "26ad256d",
   "metadata": {},
   "source": [
    "# visualization of model performance"
   ]
  },
  {
   "cell_type": "code",
   "execution_count": 32,
   "id": "18da44dc",
   "metadata": {},
   "outputs": [
    {
     "ename": "AttributeError",
     "evalue": "'list' object has no attribute 'history'",
     "output_type": "error",
     "traceback": [
      "\u001b[1;31m---------------------------------------------------------------------------\u001b[0m",
      "\u001b[1;31mAttributeError\u001b[0m                            Traceback (most recent call last)",
      "\u001b[1;32m~\\AppData\\Local\\Temp\\ipykernel_9248\\749684819.py\u001b[0m in \u001b[0;36m<module>\u001b[1;34m\u001b[0m\n\u001b[0;32m      4\u001b[0m \u001b[1;33m\u001b[0m\u001b[0m\n\u001b[0;32m      5\u001b[0m \u001b[0mfig\u001b[0m \u001b[1;33m=\u001b[0m \u001b[0mplt\u001b[0m\u001b[1;33m.\u001b[0m\u001b[0mfigure\u001b[0m\u001b[1;33m(\u001b[0m\u001b[1;33m)\u001b[0m\u001b[1;33m\u001b[0m\u001b[1;33m\u001b[0m\u001b[0m\n\u001b[1;32m----> 6\u001b[1;33m \u001b[0mplt\u001b[0m\u001b[1;33m.\u001b[0m\u001b[0mplot\u001b[0m\u001b[1;33m(\u001b[0m\u001b[0mh\u001b[0m\u001b[1;33m.\u001b[0m\u001b[0mhistory\u001b[0m\u001b[1;33m[\u001b[0m\u001b[1;34m'accuracy'\u001b[0m\u001b[1;33m]\u001b[0m\u001b[1;33m,\u001b[0m \u001b[1;34m'-o'\u001b[0m\u001b[1;33m,\u001b[0m \u001b[0mlinewidth\u001b[0m\u001b[1;33m=\u001b[0m\u001b[1;36m3.0\u001b[0m\u001b[1;33m)\u001b[0m\u001b[1;33m\u001b[0m\u001b[1;33m\u001b[0m\u001b[0m\n\u001b[0m\u001b[0;32m      7\u001b[0m \u001b[0mplt\u001b[0m\u001b[1;33m.\u001b[0m\u001b[0mplot\u001b[0m\u001b[1;33m(\u001b[0m\u001b[0mh\u001b[0m\u001b[1;33m.\u001b[0m\u001b[0mhistory\u001b[0m\u001b[1;33m[\u001b[0m\u001b[1;34m'val_accuracy'\u001b[0m\u001b[1;33m]\u001b[0m\u001b[1;33m,\u001b[0m \u001b[1;34m'-o'\u001b[0m\u001b[1;33m,\u001b[0m \u001b[0mlinewidth\u001b[0m\u001b[1;33m=\u001b[0m\u001b[1;36m3.0\u001b[0m\u001b[1;33m)\u001b[0m\u001b[1;33m\u001b[0m\u001b[1;33m\u001b[0m\u001b[0m\n\u001b[0;32m      8\u001b[0m \u001b[0mplt\u001b[0m\u001b[1;33m.\u001b[0m\u001b[0mtitle\u001b[0m\u001b[1;33m(\u001b[0m\u001b[1;34m'data8: Data Accuracy Over Epochs'\u001b[0m\u001b[1;33m,\u001b[0m \u001b[0mfontsize\u001b[0m\u001b[1;33m=\u001b[0m\u001b[1;36m22\u001b[0m\u001b[1;33m)\u001b[0m\u001b[1;33m\u001b[0m\u001b[1;33m\u001b[0m\u001b[0m\n",
      "\u001b[1;31mAttributeError\u001b[0m: 'list' object has no attribute 'history'"
     ]
    },
    {
     "data": {
      "text/plain": [
       "<Figure size 1500x500 with 0 Axes>"
      ]
     },
     "metadata": {},
     "output_type": "display_data"
    }
   ],
   "source": [
    "plt.rcParams['figure.figsize'] = (15.0, 5.0) # Setting default size of plots\n",
    "plt.rcParams['image.interpolation'] = 'nearest'\n",
    "plt.rcParams['font.family'] = 'Times New Roman'\n",
    "\n",
    "fig = plt.figure()\n",
    "plt.plot(h.history['accuracy'], '-o', linewidth=3.0)\n",
    "plt.plot(h.history['val_accuracy'], '-o', linewidth=3.0)\n",
    "plt.title('data8: Data Accuracy Over Epochs', fontsize=22)\n",
    "plt.legend(['train', 'validation'], loc='upper left', fontsize='xx-large')\n",
    "plt.xlabel('Epoch', fontsize=20)\n",
    "plt.ylabel('Accuracy', fontsize=20)\n",
    "plt.tick_params(labelsize=18)\n",
    "\n",
    "\n",
    "# Showing the plot\n",
    "plt.show()\n",
    "\n",
    "# Saving the plot\n",
    "fig.savefig('data8_saccuracy.png')\n",
    "plt.close()\n",
    "\n",
    "plt.rcParams['figure.figsize'] = (15.0, 5.0) # Setting default size of plots\n",
    "plt.rcParams['image.interpolation'] = 'nearest'\n",
    "plt.rcParams['font.family'] = 'Times New Roman'\n",
    "\n",
    "fig = plt.figure()\n",
    "plt.plot(h.history['loss'], '-o', linewidth=3.0)\n",
    "plt.plot(h.history['val_loss'], '-o', linewidth=3.0)\n",
    "plt.title('data8: loss Over Epochs', fontsize=22)\n",
    "plt.legend(['train', 'validation'], loc='upper left', fontsize='xx-large')\n",
    "plt.xlabel('Epoch', fontsize=20)\n",
    "plt.ylabel('loss', fontsize=20)\n",
    "plt.tick_params(labelsize=18)\n",
    "\n",
    "plt.show()\n",
    "fig.savefig('data8_loss.png')\n",
    "plt.close()"
   ]
  },
  {
   "cell_type": "markdown",
   "id": "159d0e81",
   "metadata": {},
   "source": [
    "# evaluate model acuuracy to reach 97%"
   ]
  },
  {
   "cell_type": "code",
   "execution_count": 15,
   "id": "9b79f465",
   "metadata": {
    "scrolled": true
   },
   "outputs": [
    {
     "name": "stdout",
     "output_type": "stream",
     "text": [
      "Epoch 1/20\n",
      "680/680 [==============================] - 19s 27ms/step - loss: 1.5222 - accuracy: 0.5763 - val_loss: 0.3587 - val_accuracy: 0.9143 - lr: 3.5849e-04\n",
      "Epoch 2/20\n",
      "680/680 [==============================] - 17s 25ms/step - loss: 0.4554 - accuracy: 0.8685 - val_loss: 0.2208 - val_accuracy: 0.9401 - lr: 3.4056e-04\n",
      "Epoch 3/20\n",
      "680/680 [==============================] - 17s 25ms/step - loss: 0.2919 - accuracy: 0.9156 - val_loss: 0.1875 - val_accuracy: 0.9463 - lr: 3.2353e-04\n",
      "Epoch 4/20\n",
      "680/680 [==============================] - 17s 25ms/step - loss: 0.2209 - accuracy: 0.9354 - val_loss: 0.1658 - val_accuracy: 0.9510 - lr: 3.0736e-04\n",
      "Epoch 5/20\n",
      "680/680 [==============================] - 18s 27ms/step - loss: 0.1791 - accuracy: 0.9470 - val_loss: 0.1540 - val_accuracy: 0.9587 - lr: 2.9199e-04\n",
      "Epoch 6/20\n",
      "680/680 [==============================] - 17s 26ms/step - loss: 0.1521 - accuracy: 0.9551 - val_loss: 0.1487 - val_accuracy: 0.9594 - lr: 2.7739e-04\n",
      "Epoch 7/20\n",
      "680/680 [==============================] - 17s 24ms/step - loss: 0.1305 - accuracy: 0.9610 - val_loss: 0.1626 - val_accuracy: 0.9558 - lr: 2.6352e-04\n",
      "Epoch 8/20\n",
      "680/680 [==============================] - 18s 26ms/step - loss: 0.1139 - accuracy: 0.9651 - val_loss: 0.1358 - val_accuracy: 0.9630 - lr: 2.5034e-04\n",
      "Epoch 9/20\n",
      "680/680 [==============================] - 18s 27ms/step - loss: 0.1003 - accuracy: 0.9698 - val_loss: 0.1613 - val_accuracy: 0.9596 - lr: 2.3783e-04\n",
      "Epoch 10/20\n",
      "680/680 [==============================] - 18s 26ms/step - loss: 0.0918 - accuracy: 0.9723 - val_loss: 0.1424 - val_accuracy: 0.9646 - lr: 2.2594e-04\n",
      "Epoch 11/20\n",
      "680/680 [==============================] - 17s 25ms/step - loss: 0.0829 - accuracy: 0.9748 - val_loss: 0.1489 - val_accuracy: 0.9626 - lr: 2.1464e-04\n",
      "Epoch 12/20\n",
      "680/680 [==============================] - 17s 25ms/step - loss: 0.0753 - accuracy: 0.9765 - val_loss: 0.1326 - val_accuracy: 0.9649 - lr: 2.0391e-04\n",
      "Epoch 13/20\n",
      "680/680 [==============================] - 18s 26ms/step - loss: 0.0681 - accuracy: 0.9786 - val_loss: 0.1582 - val_accuracy: 0.9621 - lr: 1.9371e-04\n",
      "Epoch 14/20\n",
      "680/680 [==============================] - 17s 25ms/step - loss: 0.0657 - accuracy: 0.9801 - val_loss: 0.1340 - val_accuracy: 0.9653 - lr: 1.8403e-04\n",
      "Epoch 15/20\n",
      "680/680 [==============================] - 17s 24ms/step - loss: 0.0602 - accuracy: 0.9821 - val_loss: 0.1375 - val_accuracy: 0.9660 - lr: 1.7482e-04\n",
      "Epoch 16/20\n",
      "680/680 [==============================] - 19s 28ms/step - loss: 0.0565 - accuracy: 0.9823 - val_loss: 0.1221 - val_accuracy: 0.9685 - lr: 1.6608e-04\n",
      "Epoch 17/20\n",
      "680/680 [==============================] - 18s 27ms/step - loss: 0.0537 - accuracy: 0.9833 - val_loss: 0.1425 - val_accuracy: 0.9658 - lr: 1.5778e-04\n",
      "Epoch 18/20\n",
      "680/680 [==============================] - 17s 26ms/step - loss: 0.0502 - accuracy: 0.9839 - val_loss: 0.1296 - val_accuracy: 0.9680 - lr: 1.4989e-04\n",
      "Epoch 19/20\n",
      "680/680 [==============================] - 17s 25ms/step - loss: 0.0453 - accuracy: 0.9859 - val_loss: 0.1372 - val_accuracy: 0.9680 - lr: 1.4240e-04\n",
      "Epoch 20/20\n",
      "680/680 [==============================] - 19s 28ms/step - loss: 0.0442 - accuracy: 0.9861 - val_loss: 0.1395 - val_accuracy: 0.9658 - lr: 1.3528e-04\n",
      "Epochs=20, training accuracy=0.98614, validation accuracy=0.96848\n"
     ]
    }
   ],
   "source": [
    "model = Sequential()\n",
    "model.add(Conv2D(32, kernel_size=3, padding='same', activation='relu', input_shape=(32, 32, 1)))\n",
    "model.add(MaxPool2D(pool_size=2))\n",
    "model.add(Flatten())\n",
    "model.add(Dense(256, activation='relu'))\n",
    "model.add(Dropout(.4))\n",
    "model.add(Dense(256, activation='relu'))\n",
    "model.add(Dropout(.4))\n",
    "model.add(Dense(43, activation='softmax'))\n",
    "model.compile(optimizer='adam', loss='categorical_crossentropy', metrics=['accuracy'])\n",
    "\n",
    "\n",
    "\n",
    "annealer = LearningRateScheduler(lambda x: 1e-3 * 0.95 ** (x + epochs))\n",
    "epochs = 20\n",
    "\n",
    "h = model.fit(data['x_train'], data['y_train'],\n",
    "              batch_size=128, epochs = epochs,\n",
    "              validation_data = (data['x_validation'], data['y_validation']),\n",
    "              callbacks=[annealer], verbose=1)\n",
    "\n",
    "print('Epochs={0:d}, training accuracy={1:.5f}, validation accuracy={2:.5f}'.\\\n",
    "      format(epochs, max(h.history['accuracy']), max(h.history['val_accuracy'])))"
   ]
  },
  {
   "cell_type": "code",
   "execution_count": 16,
   "id": "55313ebe",
   "metadata": {},
   "outputs": [
    {
     "name": "stderr",
     "output_type": "stream",
     "text": [
      "WARNING:absl:Found untraced functions such as _jit_compiled_convolution_op while saving (showing 1 of 1). These functions will not be directly callable after loading.\n"
     ]
    },
    {
     "name": "stdout",
     "output_type": "stream",
     "text": [
      "INFO:tensorflow:Assets written to: traffic-signs-97%.model\\assets\n"
     ]
    },
    {
     "name": "stderr",
     "output_type": "stream",
     "text": [
      "INFO:tensorflow:Assets written to: traffic-signs-97%.model\\assets\n"
     ]
    }
   ],
   "source": [
    "model.save('traffic-signs-97%.model')"
   ]
  },
  {
   "cell_type": "markdown",
   "id": "7a6423c7",
   "metadata": {},
   "source": [
    "# testing model"
   ]
  },
  {
   "cell_type": "code",
   "execution_count": 28,
   "id": "46210dd5",
   "metadata": {},
   "outputs": [
    {
     "name": "stdout",
     "output_type": "stream",
     "text": [
      "x-input (1, 32, 32, 1)\n",
      "y-input [7]\n"
     ]
    },
    {
     "data": {
      "image/png": "[encoded data removed]",
      "text/plain": [
       "<Figure size 300x300 with 1 Axes>"
      ]
     },
     "metadata": {},
     "output_type": "display_data"
    }
   ],
   "source": [
    "import pickle\n",
    "from keras.models import load_model\n",
    "from keras.utils.np_utils import to_categorical\n",
    "import matplotlib.pyplot as plt\n",
    "import numpy as np\n",
    "import pandas as pd\n",
    "\n",
    "model = load_model('traffic-signs-97%.model')\n",
    "\n",
    "with open(\"data8.pickle\", 'rb') as f:\n",
    "        data = pickle.load(f, encoding='latin1')\n",
    "        \n",
    "data['x_test'] = data['x_test'].transpose(0, 2, 3, 1)\n",
    "\n",
    "def label_text(file):\n",
    "    label_list = []\n",
    "    \n",
    "    r = pd.read_csv(file)\n",
    "    for name in r['SignName']:\n",
    "        label_list.append(name)\n",
    "    \n",
    "    return label_list\n",
    "\n",
    "\n",
    "labels = label_text('label_names.csv')\n",
    "\n",
    "\n",
    "x_input = data['x_test'][12:13]\n",
    "print('x-input',x_input.shape)\n",
    "y_input = data['y_test'][12:13]\n",
    "print('y-input',y_input)\n",
    "\n",
    "plt.rcParams['figure.figsize'] = (3, 3) \n",
    "# plt.imshow(x_input[0, :, :, :])\n",
    "plt.imshow((x_input[0, :, :, :] ))\n",
    "plt.axis('off')\n",
    "\n",
    "plt.show()\n",
    "\n",
    "\n"
   ]
  },
  {
   "cell_type": "code",
   "execution_count": 29,
   "id": "830c07b5",
   "metadata": {},
   "outputs": [
    {
     "name": "stdout",
     "output_type": "stream",
     "text": [
      "1/1 [==============================] - 0s 69ms/step\n",
      "ClassId: 7\n",
      "Label: Speed limit (100km/h)\n",
      "395/395 [==============================] - 2s 4ms/step - loss: 0.2164 - accuracy: 0.9502\n"
     ]
    }
   ],
   "source": [
    "scores = model.predict(x_input)\n",
    "\n",
    "prediction = np.argmax(scores)\n",
    "\n",
    "print('ClassId:', prediction)\n",
    "\n",
    "print('Label:', labels[prediction])\n",
    "\n",
    "data['y_test'] = to_categorical(data['y_test'], num_classes=43)\n",
    "h = model.evaluate(data[\"x_test\"], data[\"y_test\"])"
   ]
  },
  {
   "cell_type": "code",
   "execution_count": null,
   "id": "3620f50b",
   "metadata": {},
   "outputs": [],
   "source": []
  }
 ],
 "metadata": {
  "kernelspec": {
   "display_name": "Python 3 (ipykernel)",
   "language": "python",
   "name": "python3"
  },
  "language_info": {
   "codemirror_mode": {
    "name": "ipython",
    "version": 3
   },
   "file_extension": ".py",
   "mimetype": "text/x-python",
   "name": "python",
   "nbconvert_exporter": "python",
   "pygments_lexer": "ipython3",
   "version": "3.9.13"
  }
 },
 "nbformat": 4,
 "nbformat_minor": 5
}
